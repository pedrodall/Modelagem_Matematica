{
 "cells": [
  {
   "cell_type": "code",
   "execution_count": 1,
   "metadata": {},
   "outputs": [],
   "source": [
    "from sympy import *"
   ]
  },
  {
   "cell_type": "code",
   "execution_count": 2,
   "metadata": {},
   "outputs": [],
   "source": [
    "S, E, I, A, Q, R, D = symbols('S E I A Q R D')\n",
    "Sq, Eq, Iq, Aq = symbols('Sq Eq Iq Aq') \n",
    "tau, sigma, alpha, lambd1, lambd2, mu, zeta, beta = symbols('tau sigma alpha lambda gamma mu zeta beta')\n",
    "r, rho, p = symbols('r rho p')"
   ]
  },
  {
   "cell_type": "code",
   "execution_count": 3,
   "metadata": {},
   "outputs": [],
   "source": [
    "ds = -beta*S*(I+A+r*(Iq+Aq))\n",
    "dsq = -r*beta*S*(I+A+r*(Iq+Aq))\n",
    "de = beta*S*(I+A+r*(Iq+Aq))-rho*zeta*E-tau*E\n",
    "deq = beta*Sq*(I+A+r*(Iq+Aq))-rho*zeta*Eq-tau*Eq\n",
    "di = tau*E-sigma*I-rho*I\n",
    "diq = tau*Eq-sigma*Iq-rho*Iq \n",
    "da = alpha*sigma*I-rho*A-lambd1*A\n",
    "daq = alpha*sigma*Iq-rho*Aq-lambd1*Aq\n",
    "dq = sigma*(1-alpha)*(I+Iq)+rho*(zeta*(E+Eq)+I+Iq+A+Aq)-lambd2*Q-mu*Q\n",
    "dr = lambd1*(A+Aq)+lambd2*Q\n",
    "dd = mu*Q"
   ]
  },
  {
   "cell_type": "markdown",
   "metadata": {},
   "source": [
    "Simulando o modelo"
   ]
  },
  {
   "cell_type": "code",
   "execution_count": 4,
   "metadata": {},
   "outputs": [
    {
     "name": "stderr",
     "output_type": "stream",
     "text": [
      "/opt/anaconda3/lib/python3.7/site-packages/IPython/html.py:14: ShimWarning:\n",
      "\n",
      "The `IPython.html` package has been deprecated since IPython 4.0. You should import from `notebook` instead. `IPython.html.widgets` has moved to `ipywidgets`.\n",
      "\n"
     ]
    }
   ],
   "source": [
    "import os\n",
    "import sys\n",
    "import matplotlib.pyplot as plt\n",
    "import numpy as np\n",
    "import pandas as pd\n",
    "from scipy.integrate import odeint\n",
    "import plotly.graph_objects as go\n",
    "import plotly.io as pio\n",
    "pio.renderers.default = \"notebook\"\n",
    "%matplotlib inline\n",
    "plt.style.use('ggplot')\n",
    "from matplotlib.widgets import Slider, Button, RadioButtons\n",
    "from IPython.html.widgets import *"
   ]
  },
  {
   "cell_type": "code",
   "execution_count": 5,
   "metadata": {},
   "outputs": [],
   "source": [
    "def f(xs,t,ps):\n",
    "    \n",
    "    try:\n",
    "        tau = ps['tau'].value\n",
    "        sigma = ps['sigma'].value\n",
    "        alpha = ps['alpha'].value\n",
    "        lambd1 = ps['lambd1'].value\n",
    "        lambd2 =ps['lambd2'].value\n",
    "        mu =ps['mu'].value\n",
    "        mu2 =ps['mu2'].value\n",
    "        tmu = ps['tmu'].value\n",
    "        delta =ps['delta'].value\n",
    "        beta =ps['beta'].value\n",
    "        r =ps['r'].value\n",
    "        rho = ps['rho'].value\n",
    "        p = ps['p'].value\n",
    "        p2 = ps['p2'].value\n",
    "        tp = ps['tp'].value\n",
    "    except:\n",
    "        \n",
    "        tau, sigma, alpha, lambd1, lambd2, mu,mu2,tmu, delta, beta, r, rho, p, p2, tp = ps\n",
    "        \n",
    "    St, E, Eq, I, Iq, A, Aq, Q, R, D = xs\n",
    "    \n",
    "    if t > tp: p = p2\n",
    "    if t > tmu: mu = mu2\n",
    "    \n",
    "    S = (1-p)*St\n",
    "    Sq = p*St\n",
    "    \n",
    "    return [\n",
    "        -beta*S*(I+A+r*(Iq+Aq))-r*beta*Sq*(I+A+r*(Iq+Aq)),\n",
    "        beta*S*(I+A+r*(Iq+Aq))-rho*delta*E-tau*E,\n",
    "        r*beta*Sq*(I+A+r*(Iq+Aq))-rho*delta*Eq-tau*Eq,\n",
    "        tau*E-sigma*I-rho*I,\n",
    "        tau*Eq-sigma*Iq-rho*Iq,\n",
    "        alpha*sigma*I-rho*A-lambd1*A,\n",
    "        alpha*sigma*Iq-rho*Aq-lambd1*Aq,\n",
    "        sigma*(1-alpha)*(I+Iq)+rho*(delta*(E+Eq)+I+Iq+A+Aq)-lambd2*Q-mu*Q,\n",
    "        lambd1*(A+Aq)+lambd2*Q,\n",
    "        mu*Q\n",
    "           ]\n",
    "\n",
    "def g(t, x0, ps):\n",
    "    St = 1 - np.sum(x0)\n",
    "    x0 = np.insert(x0,0,St)\n",
    "    x = odeint(f,x0, t, args = (ps,))\n",
    "    return x\n",
    "\n",
    "\n",
    "def residual(ps, ts, data):\n",
    "    x0 = ps['E'].value,ps['Eq'].value,ps['I'].value,ps['Iq'].value,ps['A'].value,ps['Aq'].value,ps['Q'].value,ps['R'].value,ps['D'].value\n",
    "    model = g(ts, x0, ps)\n",
    "    \n",
    "    #teste\n",
    "    model = model[:,4]+model[:,5]\n",
    "    model *= 8.3*10e6\n",
    "    return (model - data).ravel()"
   ]
  },
  {
   "cell_type": "code",
   "execution_count": 6,
   "metadata": {},
   "outputs": [],
   "source": [
    "t = np.linspace(0,251,251)\n",
    "x0 = np.array([10e-6,0,0,0,0,0,0,0,0])\n",
    "\n",
    "tau = 1/3\n",
    "sigma = 0.5\n",
    "alpha = 0.6\n",
    "lambd1 = 1/8\n",
    "lambd2 = 1/16\n",
    "mu = 0.05\n",
    "mu2 = 0.01\n",
    "tmu = 60\n",
    "delta = 1\n",
    "beta = 0.8\n",
    "r = 0.5\n",
    "rho = 0.05\n",
    "p = 0\n",
    "p2 = 0.8\n",
    "tp = 30\n",
    "\n",
    "t_params = np.array((tau, sigma, alpha, lambd1, lambd2, mu, mu2, tmu, delta, beta, r, rho, p, p2, tp))"
   ]
  },
  {
   "cell_type": "code",
   "execution_count": 7,
   "metadata": {},
   "outputs": [
    {
     "data": {
      "image/png": "[encoded data removed]",
      "text/plain": [
       "<Figure size 640x480 with 1 Axes>"
      ]
     },
     "metadata": {},
     "output_type": "display_data"
    }
   ],
   "source": [
    "sol = g(t,x0,t_params)\n",
    "\n",
    "plt.figure(num=None, figsize=(8, 6), dpi=80, facecolor='w', edgecolor='k')\n",
    "\n",
    "for i in range(10):\n",
    "    plt.plot(sol[:,i])\n",
    "    \n",
    "plt.show()"
   ]
  },
  {
   "cell_type": "code",
   "execution_count": 8,
   "metadata": {},
   "outputs": [
    {
     "data": {
      "text/html": [
       "<div>\n",
       "<style scoped>\n",
       "    .dataframe tbody tr th:only-of-type {\n",
       "        vertical-align: middle;\n",
       "    }\n",
       "\n",
       "    .dataframe tbody tr th {\n",
       "        vertical-align: top;\n",
       "    }\n",
       "\n",
       "    .dataframe thead th {\n",
       "        text-align: right;\n",
       "    }\n",
       "</style>\n",
       "<table border=\"1\" class=\"dataframe\">\n",
       "  <thead>\n",
       "    <tr style=\"text-align: right;\">\n",
       "      <th></th>\n",
       "      <th>DATE_OF_INTEREST</th>\n",
       "      <th>CASE_COUNT</th>\n",
       "      <th>HOSPITALIZED_COUNT</th>\n",
       "      <th>DEATH_COUNT</th>\n",
       "    </tr>\n",
       "  </thead>\n",
       "  <tbody>\n",
       "    <tr>\n",
       "      <th>0</th>\n",
       "      <td>02/29/2020 12:00:00 AM</td>\n",
       "      <td>1</td>\n",
       "      <td>0</td>\n",
       "      <td>0</td>\n",
       "    </tr>\n",
       "    <tr>\n",
       "      <th>1</th>\n",
       "      <td>03/03/2020 12:00:00 AM</td>\n",
       "      <td>1</td>\n",
       "      <td>1</td>\n",
       "      <td>0</td>\n",
       "    </tr>\n",
       "    <tr>\n",
       "      <th>2</th>\n",
       "      <td>03/04/2020 12:00:00 AM</td>\n",
       "      <td>5</td>\n",
       "      <td>2</td>\n",
       "      <td>0</td>\n",
       "    </tr>\n",
       "    <tr>\n",
       "      <th>3</th>\n",
       "      <td>03/05/2020 12:00:00 AM</td>\n",
       "      <td>3</td>\n",
       "      <td>8</td>\n",
       "      <td>0</td>\n",
       "    </tr>\n",
       "    <tr>\n",
       "      <th>4</th>\n",
       "      <td>03/06/2020 12:00:00 AM</td>\n",
       "      <td>8</td>\n",
       "      <td>5</td>\n",
       "      <td>0</td>\n",
       "    </tr>\n",
       "    <tr>\n",
       "      <th>...</th>\n",
       "      <td>...</td>\n",
       "      <td>...</td>\n",
       "      <td>...</td>\n",
       "      <td>...</td>\n",
       "    </tr>\n",
       "    <tr>\n",
       "      <th>246</th>\n",
       "      <td>11/03/2020 12:00:00 AM</td>\n",
       "      <td>756</td>\n",
       "      <td>58</td>\n",
       "      <td>11</td>\n",
       "    </tr>\n",
       "    <tr>\n",
       "      <th>247</th>\n",
       "      <td>11/04/2020 12:00:00 AM</td>\n",
       "      <td>860</td>\n",
       "      <td>47</td>\n",
       "      <td>6</td>\n",
       "    </tr>\n",
       "    <tr>\n",
       "      <th>248</th>\n",
       "      <td>11/05/2020 12:00:00 AM</td>\n",
       "      <td>581</td>\n",
       "      <td>37</td>\n",
       "      <td>6</td>\n",
       "    </tr>\n",
       "    <tr>\n",
       "      <th>249</th>\n",
       "      <td>11/06/2020 12:00:00 AM</td>\n",
       "      <td>305</td>\n",
       "      <td>3</td>\n",
       "      <td>5</td>\n",
       "    </tr>\n",
       "    <tr>\n",
       "      <th>250</th>\n",
       "      <td>11/07/2020 12:00:00 AM</td>\n",
       "      <td>21</td>\n",
       "      <td>0</td>\n",
       "      <td>0</td>\n",
       "    </tr>\n",
       "  </tbody>\n",
       "</table>\n",
       "<p>251 rows × 4 columns</p>\n",
       "</div>"
      ],
      "text/plain": [
       "           DATE_OF_INTEREST  CASE_COUNT  HOSPITALIZED_COUNT  DEATH_COUNT\n",
       "0    02/29/2020 12:00:00 AM           1                   0            0\n",
       "1    03/03/2020 12:00:00 AM           1                   1            0\n",
       "2    03/04/2020 12:00:00 AM           5                   2            0\n",
       "3    03/05/2020 12:00:00 AM           3                   8            0\n",
       "4    03/06/2020 12:00:00 AM           8                   5            0\n",
       "..                      ...         ...                 ...          ...\n",
       "246  11/03/2020 12:00:00 AM         756                  58           11\n",
       "247  11/04/2020 12:00:00 AM         860                  47            6\n",
       "248  11/05/2020 12:00:00 AM         581                  37            6\n",
       "249  11/06/2020 12:00:00 AM         305                   3            5\n",
       "250  11/07/2020 12:00:00 AM          21                   0            0\n",
       "\n",
       "[251 rows x 4 columns]"
      ]
     },
     "execution_count": 8,
     "metadata": {},
     "output_type": "execute_result"
    }
   ],
   "source": [
    "from lmfit import minimize, Parameters, Parameter, report_fit\n",
    "df = pd.read_csv(\"COVID-19_Daily_Counts_of_Cases__Hospitalizations__and_Deaths.csv\")\n",
    "df"
   ]
  },
  {
   "cell_type": "code",
   "execution_count": 408,
   "metadata": {},
   "outputs": [],
   "source": [
    "params = Parameters()\n",
    "\n",
    "#adicionando todos parametros necessarios para rodar o modelo\n",
    "\n",
    "#tratamos as condiçoes inicias como parametros tb\n",
    "params.add('E', value=0.0, min=0, max=1,vary= False)\n",
    "params.add('Eq', value=0.0, min=0, max=1, vary= False)\n",
    "params.add('R', value=0.0, min=0, max=1, vary= False)\n",
    "params.add('A', value=0.0, min=0, max=1, vary= False)\n",
    "params.add('Aq', value=0.0, min=0, max=1, vary= False)\n",
    "params.add('Q', value=0.0, min=0, max=1, vary= False)\n",
    "params.add('D', value=0.0, min=0, max=1, vary= False)\n",
    "params.add('I', value=10e-6, min=0, max=10e-4, vary= True)\n",
    "params.add('Iq', value=0, min=0, max=1, vary= False)\n",
    "\n",
    "#parametros do modelo\n",
    "params.add('tau', value=0.3, min=0, max=1)\n",
    "params.add('sigma', value=0.5, min=0, max=1)\n",
    "params.add('alpha', value=0.6, min=0, max=1)\n",
    "params.add('lambd1', value=1/8, min=0, max=1)\n",
    "params.add('lambd2', value=1/16, min=0, max=1)\n",
    "params.add('mu', value=0.5, min=0, max=1)\n",
    "params.add('mu2', value=0.1, min=0, max=1)\n",
    "params.add('tmu', value=60, min=0, max=251)\n",
    "params.add('delta', value=1.0, min=0, max=1)\n",
    "params.add('beta', value=0.8, min=0, max=1)\n",
    "params.add('r', value=0.5, min=0, max=1)\n",
    "params.add('rho', value=0.05, min=0, max=1)\n",
    "params.add('p', value=0, min=0, max=1)\n",
    "params.add('p2', value=0.8, min=0, max=1)\n",
    "params.add('tp', value=30, min=0, max=251)\n",
    "\n",
    "\n",
    "result = minimize(residual, params, args = (t,ny_cases), method= 'leastsq')"
   ]
  },
  {
   "cell_type": "code",
   "execution_count": 236,
   "metadata": {},
   "outputs": [],
   "source": [
    "ny = df[['CASE_COUNT','HOSPITALIZED_COUNT','DEATH_COUNT']].to_numpy()\n",
    "cases = df[['CASE_COUNT']].to_numpy()\n",
    "\n",
    "#transformando uma lista de listas em uma lista\n",
    "cases = cases.ravel()[:251]"
   ]
  },
  {
   "cell_type": "code",
   "execution_count": 237,
   "metadata": {},
   "outputs": [],
   "source": [
    "ny_cases = ny[:,0]"
   ]
  },
  {
   "cell_type": "code",
   "execution_count": 409,
   "metadata": {},
   "outputs": [],
   "source": [
    "final = ny_cases + result.residual.reshape(ny_cases.shape)"
   ]
  },
  {
   "cell_type": "code",
   "execution_count": 410,
   "metadata": {},
   "outputs": [
    {
     "data": {
      "text/plain": [
       "[<matplotlib.lines.Line2D at 0x7ffb5cbd2f10>]"
      ]
     },
     "execution_count": 410,
     "metadata": {},
     "output_type": "execute_result"
    },
    {
     "data": {
      "image/png": "[encoded data removed]",
      "text/plain": [
       "<Figure size 1200x560 with 1 Axes>"
      ]
     },
     "metadata": {},
     "output_type": "display_data"
    }
   ],
   "source": [
    "plt.figure(num=None, figsize=(15, 7), dpi=80, facecolor='w', edgecolor='k')\n",
    "plt.plot(t, ny_cases, 'o')\n",
    "plt.plot(t, final, '-', linewidth=2)"
   ]
  },
  {
   "cell_type": "code",
   "execution_count": 411,
   "metadata": {},
   "outputs": [
    {
     "name": "stdout",
     "output_type": "stream",
     "text": [
      "[[Fit Statistics]]\n",
      "    # fitting method   = leastsq\n",
      "    # function evals   = 400\n",
      "    # data points      = 251\n",
      "    # variables        = 16\n",
      "    chi-square         = 1.1110e+08\n",
      "    reduced chi-square = 472773.064\n",
      "    Akaike info crit   = 3295.12634\n",
      "    Bayesian info crit = 3351.53359\n",
      "##  Warning: uncertainties could not be estimated:\n",
      "    tmu:     at initial value\n",
      "[[Variables]]\n",
      "    E:       0 (fixed)\n",
      "    Eq:      0 (fixed)\n",
      "    R:       0 (fixed)\n",
      "    A:       0 (fixed)\n",
      "    Aq:      0 (fixed)\n",
      "    Q:       0 (fixed)\n",
      "    D:       0 (fixed)\n",
      "    I:       5.0818e-05 (init = 1e-05)\n",
      "    Iq:      0 (fixed)\n",
      "    tau:     0.16584206 (init = 0.3)\n",
      "    sigma:   0.70116841 (init = 0.5)\n",
      "    alpha:   0.46800622 (init = 0.6)\n",
      "    lambd1:  8.7054e-04 (init = 0.125)\n",
      "    lambd2:  0.14662076 (init = 0.0625)\n",
      "    mu:      0.32584105 (init = 0.5)\n",
      "    mu2:     0.10126612 (init = 0.1)\n",
      "    tmu:     60.0000000 (init = 60)\n",
      "    delta:   0.99996738 (init = 1)\n",
      "    beta:    0.64846010 (init = 0.8)\n",
      "    r:       0.50337656 (init = 0.5)\n",
      "    rho:     0.13904760 (init = 0.05)\n",
      "    p:       0.00398849 (init = 0)\n",
      "    p2:      0.74907787 (init = 0.8)\n",
      "    tp:      34.7148268 (init = 30)\n"
     ]
    }
   ],
   "source": [
    "report_fit(result)"
   ]
  },
  {
   "cell_type": "code",
   "execution_count": null,
   "metadata": {},
   "outputs": [],
   "source": []
  },
  {
   "cell_type": "code",
   "execution_count": null,
   "metadata": {},
   "outputs": [],
   "source": []
  },
  {
   "cell_type": "code",
   "execution_count": null,
   "metadata": {},
   "outputs": [],
   "source": []
  },
  {
   "cell_type": "code",
   "execution_count": null,
   "metadata": {},
   "outputs": [],
   "source": []
  },
  {
   "cell_type": "code",
   "execution_count": 9,
   "metadata": {},
   "outputs": [],
   "source": [
    "import pymc3 as pm\n",
    "from pymc3.ode import DifferentialEquation\n",
    "import numpy as np\n",
    "import matplotlib.pyplot as plt\n",
    "from scipy.integrate import odeint\n",
    "import arviz as az\n",
    "import theano\n",
    "\n",
    "plt.style.use('seaborn-darkgrid')"
   ]
  },
  {
   "cell_type": "code",
   "execution_count": null,
   "metadata": {},
   "outputs": [],
   "source": [
    "ode_model = DifferentialEquation(\n",
    "    func=f,\n",
    "    times= t, \n",
    "    n_states=10,\n",
    "    n_theta=15,\n",
    "    t0=0,\n",
    ")\n",
    "\n",
    "with pm.Model() as model:\n",
    "    \n",
    "    sigma = pm.HalfCauchy('sigma', 1, shape=2)\n",
    "\n",
    "    # R0 is bounded below by 1 because we see an epidemic has occured\n",
    "    R0 = pm.Bound(pm.Normal, lower=1)('R0', 2, 3)\n",
    "    lam = pm.Lognormal('lambda', pm.math.log(2), 2)\n",
    "    beta = pm.Deterministic('beta', lam * R0)\n",
    "\n",
    "    sir_curves = sir_model(y0=[0.99, 0.01], theta=[beta, lam])\n",
    "\n",
    "    Y = pm.Lognormal('Y', mu=pm.math.log(sir_curves), sigma=sigma, observed=yobs)\n",
    "\n",
    "    trace = pm.sample(2000, tune=1000, target_accept=0.9, cores=1)\n",
    "    data = az.from_pymc3(trace=trace)"
   ]
  },
  {
   "cell_type": "code",
   "execution_count": null,
   "metadata": {},
   "outputs": [],
   "source": [
    "tau = 1/3\n",
    "sigma = 0.5\n",
    "alpha = 0.6\n",
    "lambd1 = 1/8\n",
    "lambd2 = 1/16\n",
    "mu = 0.05\n",
    "mu2 = 0.01\n",
    "tmu = 60\n",
    "delta = 1\n",
    "beta = 0.8\n",
    "r = 0.5\n",
    "rho = 0.05\n",
    "p = 0\n",
    "p2 = 0.8\n",
    "tp = 30"
   ]
  },
  {
   "cell_type": "code",
   "execution_count": 423,
   "metadata": {},
   "outputs": [
    {
     "data": {
      "image/png": "[encoded data removed]",
      "text/plain": [
       "<Figure size 720x480 with 1 Axes>"
      ]
     },
     "metadata": {},
     "output_type": "display_data"
    }
   ],
   "source": [
    "# For reproducibility\n",
    "np.random.seed(20394)\n",
    "\n",
    "def freefall(y, t, p):\n",
    "    return 2.0 * p[1] - p[0] * y[0]\n",
    "\n",
    "# Times for observation\n",
    "times = np.arange(0,10,0.5)\n",
    "gamma, g, y0, sigma = 0.4, 9.8, -2, 2\n",
    "y = odeint(freefall, t=times, y0=y0, args=tuple([[gamma, g]]))\n",
    "yobs = np.random.normal(y,2)\n",
    "\n",
    "fig, ax = plt.subplots(dpi=120)\n",
    "plt.plot(times, yobs, label='observed speed', linestyle='dashed', marker='o', color='red')\n",
    "plt.plot(times, y, label='True speed', color='k', alpha=0.5)\n",
    "plt.legend()\n",
    "plt.xlabel('Time (Seconds)')\n",
    "plt.ylabel(r'$y(t)$');\n",
    "plt.show()"
   ]
  },
  {
   "cell_type": "code",
   "execution_count": 426,
   "metadata": {},
   "outputs": [
    {
     "name": "stderr",
     "output_type": "stream",
     "text": [
      "Auto-assigning NUTS sampler...\n",
      "Initializing NUTS using jitter+adapt_diag...\n",
      "Sequential sampling (2 chains in 1 job)\n",
      "NUTS: [gamma, sigma]\n"
     ]
    },
    {
     "data": {
      "text/html": [
       "\n",
       "    <div>\n",
       "        <style>\n",
       "            /* Turns off some styling */\n",
       "            progress {\n",
       "                /* gets rid of default border in Firefox and Opera. */\n",
       "                border: none;\n",
       "                /* Needs to be in here for Safari polyfill so background images work as expected. */\n",
       "                background-size: auto;\n",
       "            }\n",
       "            .progress-bar-interrupted, .progress-bar-interrupted::-webkit-progress-bar {\n",
       "                background: #F44336;\n",
       "            }\n",
       "        </style>\n",
       "      <progress value='2100' class='' max='2100' style='width:300px; height:20px; vertical-align: middle;'></progress>\n",
       "      100.00% [2100/2100 04:17<00:00 Sampling chain 0, 0 divergences]\n",
       "    </div>\n",
       "    "
      ],
      "text/plain": [
       "<IPython.core.display.HTML object>"
      ]
     },
     "metadata": {},
     "output_type": "display_data"
    },
    {
     "data": {
      "text/html": [
       "\n",
       "    <div>\n",
       "        <style>\n",
       "            /* Turns off some styling */\n",
       "            progress {\n",
       "                /* gets rid of default border in Firefox and Opera. */\n",
       "                border: none;\n",
       "                /* Needs to be in here for Safari polyfill so background images work as expected. */\n",
       "                background-size: auto;\n",
       "            }\n",
       "            .progress-bar-interrupted, .progress-bar-interrupted::-webkit-progress-bar {\n",
       "                background: #F44336;\n",
       "            }\n",
       "        </style>\n",
       "      <progress value='2100' class='' max='2100' style='width:300px; height:20px; vertical-align: middle;'></progress>\n",
       "      100.00% [2100/2100 04:36<00:00 Sampling chain 1, 0 divergences]\n",
       "    </div>\n",
       "    "
      ],
      "text/plain": [
       "<IPython.core.display.HTML object>"
      ]
     },
     "metadata": {},
     "output_type": "display_data"
    },
    {
     "name": "stderr",
     "output_type": "stream",
     "text": [
      "Sampling 2 chains for 100 tune and 2_000 draw iterations (200 + 4_000 draws total) took 535 seconds.\n",
      "The acceptance probability does not match the target. It is 0.9275254250551863, but should be close to 0.8. Try to increase the number of tuning steps.\n",
      "The acceptance probability does not match the target. It is 0.9255957525271727, but should be close to 0.8. Try to increase the number of tuning steps.\n",
      "The number of effective samples is smaller than 25% for some parameters.\n"
     ]
    },
    {
     "data": {
      "text/html": [
       "\n",
       "    <div>\n",
       "        <style>\n",
       "            /* Turns off some styling */\n",
       "            progress {\n",
       "                /* gets rid of default border in Firefox and Opera. */\n",
       "                border: none;\n",
       "                /* Needs to be in here for Safari polyfill so background images work as expected. */\n",
       "                background-size: auto;\n",
       "            }\n",
       "            .progress-bar-interrupted, .progress-bar-interrupted::-webkit-progress-bar {\n",
       "                background: #F44336;\n",
       "            }\n",
       "        </style>\n",
       "      <progress value='4000' class='' max='4000' style='width:300px; height:20px; vertical-align: middle;'></progress>\n",
       "      100.00% [4000/4000 00:50<00:00]\n",
       "    </div>\n",
       "    "
      ],
      "text/plain": [
       "<IPython.core.display.HTML object>"
      ]
     },
     "metadata": {},
     "output_type": "display_data"
    },
    {
     "ename": "NameError",
     "evalue": "name 'az' is not defined",
     "output_type": "error",
     "traceback": [
      "\u001b[0;31m---------------------------------------------------------------------------\u001b[0m",
      "\u001b[0;31mNameError\u001b[0m                                 Traceback (most recent call last)",
      "\u001b[0;32m<ipython-input-426-0d46006774d4>\u001b[0m in \u001b[0;36m<module>\u001b[0;34m\u001b[0m\n\u001b[1;32m     22\u001b[0m     \u001b[0mposterior_predictive\u001b[0m \u001b[0;34m=\u001b[0m \u001b[0mpm\u001b[0m\u001b[0;34m.\u001b[0m\u001b[0msample_posterior_predictive\u001b[0m\u001b[0;34m(\u001b[0m\u001b[0mtrace\u001b[0m\u001b[0;34m)\u001b[0m\u001b[0;34m\u001b[0m\u001b[0;34m\u001b[0m\u001b[0m\n\u001b[1;32m     23\u001b[0m \u001b[0;34m\u001b[0m\u001b[0m\n\u001b[0;32m---> 24\u001b[0;31m     \u001b[0mdata\u001b[0m \u001b[0;34m=\u001b[0m \u001b[0maz\u001b[0m\u001b[0;34m.\u001b[0m\u001b[0mfrom_pymc3\u001b[0m\u001b[0;34m(\u001b[0m\u001b[0mtrace\u001b[0m\u001b[0;34m=\u001b[0m\u001b[0mtrace\u001b[0m\u001b[0;34m,\u001b[0m \u001b[0mprior\u001b[0m\u001b[0;34m=\u001b[0m\u001b[0mprior\u001b[0m\u001b[0;34m,\u001b[0m \u001b[0mposterior_predictive\u001b[0m\u001b[0;34m=\u001b[0m\u001b[0mposterior_predictive\u001b[0m\u001b[0;34m)\u001b[0m\u001b[0;34m\u001b[0m\u001b[0;34m\u001b[0m\u001b[0m\n\u001b[0m",
      "\u001b[0;31mNameError\u001b[0m: name 'az' is not defined"
     ]
    }
   ],
   "source": [
    "ode_model = DifferentialEquation(\n",
    "    func=freefall,\n",
    "    times=times,\n",
    "    n_states=1,\n",
    "    n_theta=2,\n",
    "    t0=0\n",
    ")\n",
    "\n",
    "with pm.Model() as model:\n",
    "    # Specify prior distributions for soem of our model parameters\n",
    "    sigma = pm.HalfCauchy('sigma', 1)\n",
    "    gamma = pm.Lognormal('gamma',0, 1)\n",
    "\n",
    "    # If we know one of the parameter values, we can simply pass the value.\n",
    "    ode_solution = ode_model(y0=[0], theta=[gamma, 9.8])\n",
    "    # The ode_solution has a shape of (n_times, n_states)\n",
    "\n",
    "    Y = pm.Normal('Y', mu=ode_solution, sigma=sigma, observed=yobs)\n",
    "\n",
    "    prior = pm.sample_prior_predictive()\n",
    "    trace = pm.sample(2000, tune=100, cores=1)\n",
    "    posterior_predictive = pm.sample_posterior_predictive(trace)\n",
    "\n",
    "    data = az.from_pymc3(trace=trace, prior=prior, posterior_predictive=posterior_predictive)"
   ]
  },
  {
   "cell_type": "code",
   "execution_count": 428,
   "metadata": {},
   "outputs": [
    {
     "name": "stderr",
     "output_type": "stream",
     "text": [
      "/opt/anaconda3/lib/python3.7/site-packages/arviz/data/io_pymc3.py:91: FutureWarning:\n",
      "\n",
      "Using `from_pymc3` without the model will be deprecated in a future release. Not using the model will return less accurate and less useful results. Make sure you use the model argument or call from_pymc3 within a model context.\n",
      "\n"
     ]
    }
   ],
   "source": [
    " data = az.from_pymc3(trace=trace, prior=prior, posterior_predictive=posterior_predictive)"
   ]
  },
  {
   "cell_type": "code",
   "execution_count": 429,
   "metadata": {},
   "outputs": [
    {
     "data": {
      "image/png": "[encoded data removed]",
      "text/plain": [
       "<Figure size 936x216 with 2 Axes>"
      ]
     },
     "metadata": {},
     "output_type": "display_data"
    }
   ],
   "source": [
    "az.plot_posterior(data, figsize=(13,3));"
   ]
  },
  {
   "cell_type": "code",
   "execution_count": 439,
   "metadata": {
    "scrolled": true
   },
   "outputs": [
    {
     "ename": "TypeError",
     "evalue": "point() missing 1 required positional argument: 'idx'",
     "output_type": "error",
     "traceback": [
      "\u001b[0;31m---------------------------------------------------------------------------\u001b[0m",
      "\u001b[0;31mTypeError\u001b[0m                                 Traceback (most recent call last)",
      "\u001b[0;32m<ipython-input-439-d91aaaa44e51>\u001b[0m in \u001b[0;36m<module>\u001b[0;34m\u001b[0m\n\u001b[0;32m----> 1\u001b[0;31m \u001b[0mlist\u001b[0m\u001b[0;34m(\u001b[0m\u001b[0mtrace\u001b[0m\u001b[0;34m.\u001b[0m\u001b[0mpoint\u001b[0m\u001b[0;34m(\u001b[0m\u001b[0;34m)\u001b[0m\u001b[0;34m)\u001b[0m\u001b[0;34m\u001b[0m\u001b[0;34m\u001b[0m\u001b[0m\n\u001b[0m",
      "\u001b[0;31mTypeError\u001b[0m: point() missing 1 required positional argument: 'idx'"
     ]
    }
   ],
   "source": []
  },
  {
   "cell_type": "code",
   "execution_count": 462,
   "metadata": {},
   "outputs": [],
   "source": [
    "with pm.Model() as model:\n",
    "    mu = pm.Normal(\"mu\", mu=0, sigma=1)\n",
    "    obs = pm.Normal(\"obs\", mu=mu, sigma=1, observed=np.random.randn(100))"
   ]
  },
  {
   "cell_type": "code",
   "execution_count": 445,
   "metadata": {},
   "outputs": [
    {
     "data": {
      "text/plain": [
       "[mu, obs]"
      ]
     },
     "execution_count": 445,
     "metadata": {},
     "output_type": "execute_result"
    }
   ],
   "source": [
    "model.basic_RVs"
   ]
  },
  {
   "cell_type": "code",
   "execution_count": 468,
   "metadata": {},
   "outputs": [
    {
     "data": {
      "text/plain": [
       "array(-141.48413624)"
      ]
     },
     "execution_count": 468,
     "metadata": {},
     "output_type": "execute_result"
    }
   ],
   "source": [
    "model.logp({\"mu\": 0})"
   ]
  },
  {
   "cell_type": "code",
   "execution_count": 469,
   "metadata": {
    "scrolled": false
   },
   "outputs": [
    {
     "name": "stdout",
     "output_type": "stream",
     "text": [
      "Help on class Normal in module pymc3.distributions.continuous:\n",
      "\n",
      "class Normal(pymc3.distributions.distribution.Continuous)\n",
      " |  Normal(name, *args, **kwargs)\n",
      " |  \n",
      " |  Univariate normal log-likelihood.\n",
      " |  \n",
      " |  The pdf of this distribution is\n",
      " |  \n",
      " |  .. math::\n",
      " |  \n",
      " |     f(x \\mid \\mu, \\tau) =\n",
      " |         \\sqrt{\\frac{\\tau}{2\\pi}}\n",
      " |         \\exp\\left\\{ -\\frac{\\tau}{2} (x-\\mu)^2 \\right\\}\n",
      " |  \n",
      " |  Normal distribution can be parameterized either in terms of precision\n",
      " |  or standard deviation. The link between the two parametrizations is\n",
      " |  given by\n",
      " |  \n",
      " |  .. math::\n",
      " |  \n",
      " |     \\tau = \\dfrac{1}{\\sigma^2}\n",
      " |  \n",
      " |  .. plot::\n",
      " |  \n",
      " |      import matplotlib.pyplot as plt\n",
      " |      import numpy as np\n",
      " |      import scipy.stats as st\n",
      " |      plt.style.use('seaborn-darkgrid')\n",
      " |      x = np.linspace(-5, 5, 1000)\n",
      " |      mus = [0., 0., 0., -2.]\n",
      " |      sigmas = [0.4, 1., 2., 0.4]\n",
      " |      for mu, sigma in zip(mus, sigmas):\n",
      " |          pdf = st.norm.pdf(x, mu, sigma)\n",
      " |          plt.plot(x, pdf, label=r'$\\mu$ = {}, $\\sigma$ = {}'.format(mu, sigma))\n",
      " |      plt.xlabel('x', fontsize=12)\n",
      " |      plt.ylabel('f(x)', fontsize=12)\n",
      " |      plt.legend(loc=1)\n",
      " |      plt.show()\n",
      " |  \n",
      " |  ========  ==========================================\n",
      " |  Support   :math:`x \\in \\mathbb{R}`\n",
      " |  Mean      :math:`\\mu`\n",
      " |  Variance  :math:`\\dfrac{1}{\\tau}` or :math:`\\sigma^2`\n",
      " |  ========  ==========================================\n",
      " |  \n",
      " |  Parameters\n",
      " |  ----------\n",
      " |  mu: float\n",
      " |      Mean.\n",
      " |  sigma: float\n",
      " |      Standard deviation (sigma > 0) (only required if tau is not specified).\n",
      " |  tau: float\n",
      " |      Precision (tau > 0) (only required if sigma is not specified).\n",
      " |  \n",
      " |  Examples\n",
      " |  --------\n",
      " |  .. code-block:: python\n",
      " |  \n",
      " |      with pm.Model():\n",
      " |          x = pm.Normal('x', mu=0, sigma=10)\n",
      " |  \n",
      " |      with pm.Model():\n",
      " |          x = pm.Normal('x', mu=0, tau=1/23)\n",
      " |  \n",
      " |  Method resolution order:\n",
      " |      Normal\n",
      " |      pymc3.distributions.distribution.Continuous\n",
      " |      pymc3.distributions.distribution.Distribution\n",
      " |      builtins.object\n",
      " |  \n",
      " |  Methods defined here:\n",
      " |  \n",
      " |  __init__(self, mu=0, sigma=None, tau=None, sd=None, **kwargs)\n",
      " |      Initialize self.  See help(type(self)) for accurate signature.\n",
      " |  \n",
      " |  logcdf(self, value)\n",
      " |      Compute the log of the cumulative distribution function for Normal distribution\n",
      " |      at the specified value.\n",
      " |      \n",
      " |      Parameters\n",
      " |      ----------\n",
      " |      value: numeric\n",
      " |          Value(s) for which log CDF is calculated. If the log CDF for multiple\n",
      " |          values are desired the values must be provided in a numpy array or theano tensor.\n",
      " |      \n",
      " |      Returns\n",
      " |      -------\n",
      " |      TensorVariable\n",
      " |  \n",
      " |  logp(self, value)\n",
      " |      Calculate log-probability of Normal distribution at specified value.\n",
      " |      \n",
      " |      Parameters\n",
      " |      ----------\n",
      " |      value: numeric\n",
      " |          Value(s) for which log-probability is calculated. If the log probabilities for multiple\n",
      " |          values are desired the values must be provided in a numpy array or theano tensor\n",
      " |      \n",
      " |      Returns\n",
      " |      -------\n",
      " |      TensorVariable\n",
      " |  \n",
      " |  random(self, point=None, size=None)\n",
      " |      Draw random values from Normal distribution.\n",
      " |      \n",
      " |      Parameters\n",
      " |      ----------\n",
      " |      point: dict, optional\n",
      " |          Dict of variable values on which random values are to be\n",
      " |          conditioned (uses default point if not specified).\n",
      " |      size: int, optional\n",
      " |          Desired size of random sample (returns one sample if not\n",
      " |          specified).\n",
      " |      \n",
      " |      Returns\n",
      " |      -------\n",
      " |      array\n",
      " |  \n",
      " |  ----------------------------------------------------------------------\n",
      " |  Data and other attributes defined here:\n",
      " |  \n",
      " |  __slotnames__ = []\n",
      " |  \n",
      " |  data = array([ 0.3033266 ,  0.36129166,  1.10235331, -1...41956557, -0...\n",
      " |  \n",
      " |  ----------------------------------------------------------------------\n",
      " |  Methods inherited from pymc3.distributions.distribution.Distribution:\n",
      " |  \n",
      " |  __getnewargs__(self)\n",
      " |  \n",
      " |  __latex__ = _repr_latex_(self, name=None, dist=None)\n",
      " |      Magic method name for IPython to use for LaTeX formatting.\n",
      " |  \n",
      " |  default(self)\n",
      " |  \n",
      " |  get_test_val(self, val, defaults)\n",
      " |  \n",
      " |  getattr_value(self, val)\n",
      " |  \n",
      " |  logp_nojac(self, *args, **kwargs)\n",
      " |      Return the logp, but do not include a jacobian term for transforms.\n",
      " |      \n",
      " |      If we use different parametrizations for the same distribution, we\n",
      " |      need to add the determinant of the jacobian of the transformation\n",
      " |      to make sure the densities still describe the same distribution.\n",
      " |      However, MAP estimates are not invariant with respect to the\n",
      " |      parametrization, we need to exclude the jacobian terms in this case.\n",
      " |      \n",
      " |      This function should be overwritten in base classes for transformed\n",
      " |      distributions.\n",
      " |  \n",
      " |  logp_sum(self, *args, **kwargs)\n",
      " |      Return the sum of the logp values for the given observations.\n",
      " |      \n",
      " |      Subclasses can use this to improve the speed of logp evaluations\n",
      " |      if only the sum of the logp values is needed.\n",
      " |  \n",
      " |  ----------------------------------------------------------------------\n",
      " |  Class methods inherited from pymc3.distributions.distribution.Distribution:\n",
      " |  \n",
      " |  dist(*args, **kwargs) from builtins.type\n",
      " |  \n",
      " |  ----------------------------------------------------------------------\n",
      " |  Static methods inherited from pymc3.distributions.distribution.Distribution:\n",
      " |  \n",
      " |  __new__(cls, name, *args, **kwargs)\n",
      " |      Create and return a new object.  See help(type) for accurate signature.\n",
      " |  \n",
      " |  ----------------------------------------------------------------------\n",
      " |  Data descriptors inherited from pymc3.distributions.distribution.Distribution:\n",
      " |  \n",
      " |  __dict__\n",
      " |      dictionary for instance variables (if defined)\n",
      " |  \n",
      " |  __weakref__\n",
      " |      list of weak references to the object (if defined)\n",
      "\n"
     ]
    }
   ],
   "source": [
    "help(pm.Normal)"
   ]
  },
  {
   "cell_type": "code",
   "execution_count": null,
   "metadata": {},
   "outputs": [],
   "source": []
  }
 ],
 "metadata": {
  "kernelspec": {
   "display_name": "Python 3",
   "language": "python",
   "name": "python3"
  },
  "language_info": {
   "codemirror_mode": {
    "name": "ipython",
    "version": 3
   },
   "file_extension": ".py",
   "mimetype": "text/x-python",
   "name": "python",
   "nbconvert_exporter": "python",
   "pygments_lexer": "ipython3",
   "version": "3.7.4"
  }
 },
 "nbformat": 4,
 "nbformat_minor": 2
}
